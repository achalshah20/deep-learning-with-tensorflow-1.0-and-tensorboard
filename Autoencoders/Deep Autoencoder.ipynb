{
 "cells": [
  {
   "cell_type": "code",
   "execution_count": 1,
   "metadata": {
    "collapsed": true
   },
   "outputs": [],
   "source": [
    "import tensorflow as tf\n",
    "import numpy as np\n",
    "import matplotlib.pyplot as plt\n",
    "%matplotlib inline"
   ]
  },
  {
   "cell_type": "code",
   "execution_count": 2,
   "metadata": {
    "collapsed": false
   },
   "outputs": [
    {
     "name": "stdout",
     "output_type": "stream",
     "text": [
      "Successfully downloaded train-images-idx3-ubyte.gz 9912422 bytes.\n",
      "Extracting /tmp/mnist/train-images-idx3-ubyte.gz\n",
      "Successfully downloaded train-labels-idx1-ubyte.gz 28881 bytes.\n",
      "Extracting /tmp/mnist/train-labels-idx1-ubyte.gz\n",
      "Successfully downloaded t10k-images-idx3-ubyte.gz 1648877 bytes.\n",
      "Extracting /tmp/mnist/t10k-images-idx3-ubyte.gz\n",
      "Successfully downloaded t10k-labels-idx1-ubyte.gz 4542 bytes.\n",
      "Extracting /tmp/mnist/t10k-labels-idx1-ubyte.gz\n"
     ]
    }
   ],
   "source": [
    "# Import MNIST data\n",
    "from tensorflow.examples.tutorials.mnist import input_data\n",
    "mnist = input_data.read_data_sets(\"/tmp/mnist/\")"
   ]
  },
  {
   "cell_type": "code",
   "execution_count": 3,
   "metadata": {
    "collapsed": true
   },
   "outputs": [],
   "source": [
    "# Model Parameters\n",
    "learning_rate = 0.001\n",
    "n_epochs = 20\n",
    "batch_size = 100\n",
    "display_step = 1"
   ]
  },
  {
   "cell_type": "code",
   "execution_count": 4,
   "metadata": {
    "collapsed": true
   },
   "outputs": [],
   "source": [
    "# Network Parameters\n",
    "nd_input = 784\n",
    "nd_hidden_l1 = 512\n",
    "nd_hidden_l2 = 256\n",
    "nd_output = 128"
   ]
  },
  {
   "cell_type": "code",
   "execution_count": 5,
   "metadata": {
    "collapsed": false
   },
   "outputs": [],
   "source": [
    "with tf.name_scope(\"WB\") as scope:\n",
    "\n",
    "    weights = {\n",
    "        'encoder_w1': tf.Variable(tf.random_normal([nd_input, nd_hidden_l1]),\"EN_W1\"),\n",
    "        'encoder_w2': tf.Variable(tf.random_normal([nd_hidden_l1, nd_hidden_l2]),\"EN_W2\"),\n",
    "        'encoder_w3': tf.Variable(tf.random_normal([nd_hidden_l2, nd_output]),\"EN_W3\"),\n",
    "\n",
    "        'decoder_w1': tf.Variable(tf.random_normal([nd_output, nd_hidden_l2]),\"DC_W1\"),\n",
    "        'decoder_w2': tf.Variable(tf.random_normal([nd_hidden_l2, nd_hidden_l1]),\"DC_W2\"),\n",
    "        'decoder_w3': tf.Variable(tf.random_normal([nd_hidden_l1, nd_input]),\"DC_W3\"),\n",
    "    }\n",
    "\n",
    "    biases = {\n",
    "        'encoder_b1': tf.Variable(tf.random_normal([nd_hidden_l1]),\"EN_B1\"),\n",
    "        'encoder_b2': tf.Variable(tf.random_normal([nd_hidden_l2]),\"EN_B2\"),\n",
    "        'encoder_b3': tf.Variable(tf.random_normal([nd_output]),\"EN_B3\"),\n",
    "\n",
    "        'decoder_b1': tf.Variable(tf.random_normal([nd_hidden_l2]),\"DC_B1\"),\n",
    "        'decoder_b2': tf.Variable(tf.random_normal([nd_hidden_l1]),\"DC_B2\"),\n",
    "        'decoder_b3': tf.Variable(tf.random_normal([nd_input]),\"DC_B3\"),\n",
    "\n",
    "    }"
   ]
  },
  {
   "cell_type": "code",
   "execution_count": 6,
   "metadata": {
    "collapsed": true
   },
   "outputs": [],
   "source": [
    "# tf Graph input\n",
    "X = tf.placeholder(\"float\", [None, nd_input],\"input\")"
   ]
  },
  {
   "cell_type": "code",
   "execution_count": 7,
   "metadata": {
    "collapsed": true
   },
   "outputs": [],
   "source": [
    "# Encoder\n",
    "def deep_encoder(x):\n",
    "    # First layer with sigmoid activation\n",
    "    layer_1 = tf.nn.sigmoid(tf.add(tf.matmul(x, weights['encoder_w1']), biases['encoder_b1'],\"ENC1\"))\n",
    "    \n",
    "    # Second layer with sigmoid activation\n",
    "    layer_2 = tf.nn.sigmoid(tf.add(tf.matmul(layer_1, weights['encoder_w2']), biases['encoder_b2'],\"ENC2\"))\n",
    "    \n",
    "    # Output layer with sigmoid activation\n",
    "    out_layer = tf.nn.sigmoid(tf.add(tf.matmul(layer_2, weights['encoder_w3']), biases['encoder_b3'],\"ENC3\"))\n",
    "    \n",
    "    return out_layer\n",
    "\n",
    "# Decoder\n",
    "def deep_decoder(x):\n",
    "    \n",
    "    # First layer with sigmoid activation\n",
    "    layer_1 = tf.nn.sigmoid(tf.add(tf.matmul(x, weights['decoder_w1']), biases['decoder_b1'],\"DC1\"))\n",
    "    \n",
    "    # Second layer with sigmoid activation\n",
    "    layer_2 = tf.nn.sigmoid(tf.add(tf.matmul(layer_1, weights['decoder_w2']), biases['decoder_b2'],\"DC2\"))\n",
    "    \n",
    "    # Output layer with sigmoid activation\n",
    "    out_layer = tf.nn.sigmoid(tf.add(tf.matmul(layer_2, weights['decoder_w3']), biases['decoder_b3'],\"DC3\"))\n",
    "    \n",
    "    return out_layer"
   ]
  },
  {
   "cell_type": "code",
   "execution_count": 8,
   "metadata": {
    "collapsed": false
   },
   "outputs": [],
   "source": [
    "# Build a  model\n",
    "with tf.name_scope(\"encoder\") as scope:\n",
    "\n",
    "    deepencoder_model = deep_encoder(X)\n",
    "    \n",
    "with tf.name_scope(\"decoder\") as scope:\n",
    "\n",
    "    deepdecoder_model = deep_decoder(deepencoder_model)\n",
    "# Encode input data\n",
    "Xtr_preds = deepdecoder_model\n",
    "\n",
    "# True labels\n",
    "Xtr = X\n",
    "\n",
    "# root Mean squared error\n",
    "with tf.name_scope(\"MSE\") as scope:\n",
    "    train_mse = tf.reduce_mean(tf.square(Xtr-Xtr_preds))\n",
    "    tf.summary.scalar(\"train_MSE\",train_mse)\n",
    "    \n",
    "    test_mse = tf.reduce_mean(tf.square(Xtr-Xtr_preds))\n",
    "    tf.summary.scalar(\"test_MSE\",test_mse)\n",
    "\n",
    "# RMSprop optimizer to reduce cost function\n",
    "optimizer = tf.train.AdamOptimizer(learning_rate).minimize(train_mse)\n",
    "\n",
    "# Initializing the variables\n",
    "init = tf.global_variables_initializer()"
   ]
  },
  {
   "cell_type": "code",
   "execution_count": 9,
   "metadata": {
    "collapsed": true
   },
   "outputs": [],
   "source": [
    "all_summary = tf.summary.merge_all()"
   ]
  },
  {
   "cell_type": "code",
   "execution_count": 12,
   "metadata": {
    "collapsed": false
   },
   "outputs": [
    {
     "name": "stdout",
     "output_type": "stream",
     "text": [
      "Epoch:  1 train_mse= 0.17149 test_mse= 0.14615\n",
      "Epoch:  2 train_mse= 0.13876 test_mse= 0.13359\n",
      "Epoch:  3 train_mse= 0.12853 test_mse= 0.12409\n",
      "Epoch:  4 train_mse= 0.12168 test_mse= 0.12008\n",
      "Epoch:  5 train_mse= 0.11817 test_mse= 0.11574\n",
      "Epoch:  6 train_mse= 0.11368 test_mse= 0.11288\n",
      "Epoch:  7 train_mse= 0.11140 test_mse= 0.10967\n",
      "Epoch:  8 train_mse= 0.10887 test_mse= 0.10871\n",
      "Epoch:  9 train_mse= 0.10786 test_mse= 0.10772\n",
      "Epoch: 10 train_mse= 0.10667 test_mse= 0.10662\n",
      "Epoch: 11 train_mse= 0.10575 test_mse= 0.10584\n",
      "Epoch: 12 train_mse= 0.10469 test_mse= 0.10463\n",
      "Epoch: 13 train_mse= 0.10354 test_mse= 0.10378\n",
      "Epoch: 14 train_mse= 0.10272 test_mse= 0.10328\n",
      "Epoch: 15 train_mse= 0.10206 test_mse= 0.10267\n",
      "Epoch: 16 train_mse= 0.10145 test_mse= 0.10190\n",
      "Epoch: 17 train_mse= 0.10081 test_mse= 0.10154\n",
      "Epoch: 18 train_mse= 0.10031 test_mse= 0.10089\n",
      "Epoch: 19 train_mse= 0.09958 test_mse= 0.10037\n",
      "Epoch: 20 train_mse= 0.09908 test_mse= 0.09986\n"
     ]
    }
   ],
   "source": [
    "with tf.Session() as sess:\n",
    "    with tf.device(\"/cpu:0\"):\n",
    "\n",
    "        sess.run(init)\n",
    "        \n",
    "        train_writer = tf.summary.FileWriter('tensorboard/train/',sess.graph)\n",
    "        test_writer = tf.summary.FileWriter('tensorboard/test/',sess.graph)\n",
    "\n",
    "\n",
    "        n_batches = int(mnist.train.num_examples/batch_size)\n",
    "\n",
    "        # 20 epochs\n",
    "        for epoch in range(n_epochs):\n",
    "\n",
    "            training_avg_loss = 0\n",
    "            # Run all batches for each epoch\n",
    "            for i in range(n_batches):\n",
    "                xtr_batch, ytr_batch = mnist.train.next_batch(batch_size)\n",
    "\n",
    "                train_summary,_,c = sess.run([all_summary,optimizer,train_mse], feed_dict={X: xtr_batch})\n",
    "\n",
    "                train_writer.add_summary(train_summary, epoch*n_batches + i)\n",
    "\n",
    "                training_avg_loss += c / n_batches\n",
    "                            \n",
    "\n",
    "            test_summary,tm = sess.run([all_summary,test_mse], feed_dict={X: mnist.test.images})\n",
    "\n",
    "            test_writer.add_summary(test_summary, epoch)\n",
    "            # Display logs per each epoch step\n",
    "            if epoch % display_step == 0:\n",
    "                print(\"Epoch:\", '%2d' % (epoch+1), \"train_mse=\", \"{:.5f}\".format(training_avg_loss),\n",
    "                     \"test_mse=\", \"{:.5f}\".format(tm))          \n",
    "            "
   ]
  },
  {
   "cell_type": "code",
   "execution_count": null,
   "metadata": {
    "collapsed": false
   },
   "outputs": [],
   "source": []
  }
 ],
 "metadata": {
  "anaconda-cloud": {},
  "kernelspec": {
   "display_name": "Python [default]",
   "language": "python",
   "name": "python3"
  },
  "language_info": {
   "codemirror_mode": {
    "name": "ipython",
    "version": 3
   },
   "file_extension": ".py",
   "mimetype": "text/x-python",
   "name": "python",
   "nbconvert_exporter": "python",
   "pygments_lexer": "ipython3",
   "version": "3.5.2"
  }
 },
 "nbformat": 4,
 "nbformat_minor": 1
}
