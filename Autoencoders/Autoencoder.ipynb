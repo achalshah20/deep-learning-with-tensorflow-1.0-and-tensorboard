{
 "cells": [
  {
   "cell_type": "markdown",
   "metadata": {},
   "source": [
    "## Implementation of Auto encoders using tensorflow"
   ]
  },
  {
   "cell_type": "code",
   "execution_count": 1,
   "metadata": {
    "collapsed": true
   },
   "outputs": [],
   "source": [
    "import tensorflow as tf\n",
    "import numpy as np\n",
    "import matplotlib.pyplot as plt\n",
    "%matplotlib inline"
   ]
  },
  {
   "cell_type": "code",
   "execution_count": 2,
   "metadata": {
    "collapsed": false
   },
   "outputs": [
    {
     "name": "stdout",
     "output_type": "stream",
     "text": [
      "Extracting /tmp/mnist/train-images-idx3-ubyte.gz\n",
      "Extracting /tmp/mnist/train-labels-idx1-ubyte.gz\n",
      "Extracting /tmp/mnist/t10k-images-idx3-ubyte.gz\n",
      "Extracting /tmp/mnist/t10k-labels-idx1-ubyte.gz\n"
     ]
    }
   ],
   "source": [
    "# Import MNIST data\n",
    "from tensorflow.examples.tutorials.mnist import input_data\n",
    "mnist = input_data.read_data_sets(\"/tmp/mnist/\")"
   ]
  },
  {
   "cell_type": "code",
   "execution_count": 3,
   "metadata": {
    "collapsed": true
   },
   "outputs": [],
   "source": [
    "# Model Parameters\n",
    "learning_rate = 0.01\n",
    "n_epochs = 20\n",
    "batch_size = 256\n",
    "display_step = 1"
   ]
  },
  {
   "cell_type": "markdown",
   "metadata": {},
   "source": [
    "## Implement single layer encoder an decoder"
   ]
  },
  {
   "cell_type": "code",
   "execution_count": 4,
   "metadata": {
    "collapsed": true
   },
   "outputs": [],
   "source": [
    "# Network Parameters\n",
    "n_input = 784\n",
    "n_hidden_l1 = 256\n",
    "n_output = 128\n",
    "\n",
    "# tf Graph input\n",
    "X = tf.placeholder(\"float\", [None, n_input])"
   ]
  },
  {
   "cell_type": "code",
   "execution_count": 5,
   "metadata": {
    "collapsed": false
   },
   "outputs": [],
   "source": [
    "weights = {\n",
    "    'encoder_w1': tf.Variable(tf.random_normal([n_input, n_hidden_l1])),\n",
    "    'encoder_w2': tf.Variable(tf.random_normal([n_hidden_l1, n_output])),\n",
    "    'decoder_w1': tf.Variable(tf.random_normal([n_output, n_hidden_l1])),\n",
    "    'decoder_w2': tf.Variable(tf.random_normal([n_hidden_l1, n_input])),\n",
    "}\n",
    "biases = {\n",
    "    'encoder_b1': tf.Variable(tf.random_normal([n_hidden_l1])),\n",
    "    'encoder_b2': tf.Variable(tf.random_normal([n_output])),\n",
    "    'decoder_b1': tf.Variable(tf.random_normal([n_hidden_l1])),\n",
    "    'decoder_b2': tf.Variable(tf.random_normal([n_input])),\n",
    "}"
   ]
  },
  {
   "cell_type": "code",
   "execution_count": 6,
   "metadata": {
    "collapsed": true
   },
   "outputs": [],
   "source": [
    "# Encoder\n",
    "def encoder(x):\n",
    "    # First layer with sigmoid activation\n",
    "    layer_1 = tf.nn.sigmoid(tf.add(tf.matmul(x, weights['encoder_w1']), biases['encoder_b1']))\n",
    "    \n",
    "    \n",
    "    # Output layer with sigmoid activation\n",
    "    out_layer = tf.nn.sigmoid(tf.add(tf.matmul(layer_1, weights['encoder_w2']), biases['encoder_b2']))\n",
    "    \n",
    "    return out_layer\n",
    "\n",
    "# Decoder\n",
    "def decoder(x):\n",
    "    \n",
    "    # First layer with sigmoid activation\n",
    "    layer_1 = tf.nn.sigmoid(tf.add(tf.matmul(x, weights['decoder_w1']), biases['decoder_b1']))\n",
    "    \n",
    "    # Output layer with sigmoid activation\n",
    "    out_layer = tf.nn.sigmoid(tf.add(tf.matmul(layer_1, weights['decoder_w2']), biases['decoder_b2']))\n",
    "    \n",
    "    return out_layer"
   ]
  },
  {
   "cell_type": "code",
   "execution_count": 7,
   "metadata": {
    "collapsed": false
   },
   "outputs": [
    {
     "name": "stdout",
     "output_type": "stream",
     "text": [
      "WARNING:tensorflow:From <ipython-input-7-6158e7836cb0>:17: initialize_all_variables (from tensorflow.python.ops.variables) is deprecated and will be removed after 2017-03-02.\n",
      "Instructions for updating:\n",
      "Use `tf.global_variables_initializer` instead.\n"
     ]
    }
   ],
   "source": [
    "# Build a  model\n",
    "encoder_model = encoder(X)\n",
    "decoder_model = decoder(encoder_model)\n",
    "# Encode input data\n",
    "y_pred = decoder_model\n",
    "\n",
    "# True labels\n",
    "y_true = X\n",
    "\n",
    "# root Mean squared error\n",
    "cost = tf.reduce_mean(tf.pow(y_true - y_pred, 2))\n",
    "\n",
    "# RMSprop optimizer to reduce cost function\n",
    "optimizer = tf.train.RMSPropOptimizer(learning_rate).minimize(cost)\n",
    "\n",
    "# Initializing the variables\n",
    "init = tf.global_variables_initializer()"
   ]
  },
  {
   "cell_type": "code",
   "execution_count": 8,
   "metadata": {
    "collapsed": false
   },
   "outputs": [
    {
     "name": "stdout",
     "output_type": "stream",
     "text": [
      "Epoch:  1 cost= 0.20667\n",
      "Epoch:  2 cost= 0.15840\n",
      "Epoch:  3 cost= 0.14470\n",
      "Epoch:  4 cost= 0.13632\n",
      "Epoch:  5 cost= 0.12796\n",
      "Epoch:  6 cost= 0.12300\n",
      "Epoch:  7 cost= 0.11925\n",
      "Epoch:  8 cost= 0.11507\n",
      "Epoch:  9 cost= 0.11518\n",
      "Epoch: 10 cost= 0.11212\n",
      "Epoch: 11 cost= 0.10857\n",
      "Epoch: 12 cost= 0.10360\n",
      "Epoch: 13 cost= 0.10192\n",
      "Epoch: 14 cost= 0.10092\n",
      "Epoch: 15 cost= 0.09738\n",
      "Epoch: 16 cost= 0.09449\n",
      "Epoch: 17 cost= 0.09299\n",
      "Epoch: 18 cost= 0.09344\n",
      "Epoch: 19 cost= 0.09021\n",
      "Epoch: 20 cost= 0.09168\n"
     ]
    },
    {
     "name": "stderr",
     "output_type": "stream",
     "text": [
      "/home/achal/.local/lib/python3.5/site-packages/matplotlib/figure.py:402: UserWarning: matplotlib is currently using a non-GUI backend, so cannot show the figure\n",
      "  \"matplotlib is currently using a non-GUI backend, \"\n"
     ]
    },
    {
     "data": {
      "image/png": "[encoded data removed]",
      "text/plain": [
       "<matplotlib.figure.Figure at 0x7f34fab5e588>"
      ]
     },
     "metadata": {},
     "output_type": "display_data"
    }
   ],
   "source": [
    "with tf.Session() as sess:\n",
    "    sess.run(init)\n",
    "\n",
    "    n_batches = int(mnist.train.num_examples/batch_size)\n",
    "\n",
    "    # 20 epochs\n",
    "    for epoch in range(n_epochs):\n",
    "\n",
    "        # Run all batches for each epoch\n",
    "        for i in range(n_batches):\n",
    "            xtr_batch, ytr_batch = mnist.train.next_batch(batch_size)\n",
    "\n",
    "            # Run optimizer for each batch\n",
    "            # c will hold the cost for each epoch\n",
    "            _,c = sess.run([optimizer, cost], feed_dict={X: xtr_batch})\n",
    "\n",
    "\n",
    "        # Display logs per each epoch step\n",
    "        if epoch % display_step == 0:\n",
    "            print(\"Epoch:\", '%2d' % (epoch+1), \"cost=\", \"{:.5f}\".format(c))\n",
    "            \n",
    "    n_display_examples = 5\n",
    "\n",
    "    test = sess.run(y_pred, feed_dict={X: mnist.test.images[:n_display_examples]})\n",
    "\n",
    "    f, axisArr = plt.subplots(2, n_display_examples, figsize=(13, 3))\n",
    "\n",
    "    for i in range(n_display_examples):\n",
    "        axisArr[0][i].imshow(np.reshape(mnist.test.images[i], (28, 28)))\n",
    "        axisArr[1][i].imshow(np.reshape(test[i], (28, 28)))\n",
    "\n",
    "    f.show()"
   ]
  },
  {
   "cell_type": "code",
   "execution_count": null,
   "metadata": {
    "collapsed": false
   },
   "outputs": [],
   "source": []
  },
  {
   "cell_type": "code",
   "execution_count": null,
   "metadata": {
    "collapsed": true
   },
   "outputs": [],
   "source": []
  }
 ],
 "metadata": {
  "anaconda-cloud": {},
  "kernelspec": {
   "display_name": "Python [default]",
   "language": "python",
   "name": "python3"
  },
  "language_info": {
   "codemirror_mode": {
    "name": "ipython",
    "version": 3
   },
   "file_extension": ".py",
   "mimetype": "text/x-python",
   "name": "python",
   "nbconvert_exporter": "python",
   "pygments_lexer": "ipython3",
   "version": "3.5.2"
  }
 },
 "nbformat": 4,
 "nbformat_minor": 1
}
