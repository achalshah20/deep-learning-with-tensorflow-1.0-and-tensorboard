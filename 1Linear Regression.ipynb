{
 "cells": [
  {
   "cell_type": "markdown",
   "metadata": {},
   "source": [
    "## Logistic regression implementation using tensorflow"
   ]
  },
  {
   "cell_type": "code",
   "execution_count": 1,
   "metadata": {
    "collapsed": true
   },
   "outputs": [],
   "source": [
    "# Import libraries\n",
    "import tensorflow as tf\n",
    "import numpy as np\n",
    "import matplotlib.pyplot as plt"
   ]
  },
  {
   "cell_type": "code",
   "execution_count": 2,
   "metadata": {
    "collapsed": false
   },
   "outputs": [],
   "source": [
    "# Model parameters\n",
    "learning_rate = 0.05\n",
    "n_epochs = 1000\n",
    "display_step = 100\n",
    "\n",
    "# random number generator\n",
    "rng = np.random"
   ]
  },
  {
   "cell_type": "code",
   "execution_count": 3,
   "metadata": {
    "collapsed": false
   },
   "outputs": [
    {
     "name": "stdout",
     "output_type": "stream",
     "text": [
      "[ 21.40864484  27.53274611  21.06956378  23.68638809  26.63836198\n",
      "  26.14634149  26.12919043  21.50049809  29.90124237  29.23422764\n",
      "  28.84608545  28.99446834  23.64653012  21.50186648  22.52682553\n",
      "  24.80870572  29.28681996  25.7083932   23.56490011  28.14134019]\n"
     ]
    }
   ],
   "source": [
    "# Training Data\n",
    "X_train = np.asarray([rng.uniform(0,1) for x in np.arange(20)])\n",
    "y_train = X_train * 10 + 20 + np.asarray([rng.uniform(0,1) for x in np.arange(20)])\n",
    "n = X_train.shape[0]\n",
    "print(y_train)"
   ]
  },
  {
   "cell_type": "code",
   "execution_count": 4,
   "metadata": {
    "collapsed": false
   },
   "outputs": [],
   "source": [
    "# Tensorflow graph input\n",
    "X = tf.placeholder(\"float\")\n",
    "Y = tf.placeholder(\"float\")\n",
    "\n",
    "# Model weights\n",
    "W = tf.Variable(rng.randn(), name=\"weight\")\n",
    "b = tf.Variable(rng.randn(), name=\"bias\")"
   ]
  },
  {
   "cell_type": "code",
   "execution_count": 5,
   "metadata": {
    "collapsed": false
   },
   "outputs": [],
   "source": [
    "# Construct a linear model\n",
    "y_pred = tf.add(tf.mul(X, W), b)"
   ]
  },
  {
   "cell_type": "code",
   "execution_count": 6,
   "metadata": {
    "collapsed": false
   },
   "outputs": [],
   "source": [
    "# Root Mean squared error\n",
    "cost = tf.sqrt(tf.reduce_sum(tf.pow(y_pred-Y, 2))/(2*n))\n",
    "\n",
    "# Optimize cost function by using gradient descent optimizer\n",
    "optimizer = tf.train.GradientDescentOptimizer(learning_rate).minimize(cost)"
   ]
  },
  {
   "cell_type": "code",
   "execution_count": 7,
   "metadata": {
    "collapsed": true
   },
   "outputs": [],
   "source": [
    "# Initializing the variables\n",
    "init = tf.initialize_all_variables()"
   ]
  },
  {
   "cell_type": "code",
   "execution_count": 8,
   "metadata": {
    "collapsed": false
   },
   "outputs": [
    {
     "name": "stdout",
     "output_type": "stream",
     "text": [
      "Epoch: 0100 cost= 4.957966805 W= 7.26089 b= 14.9664\n",
      "Epoch: 0200 cost= 0.203342691 W= 9.91907 b= 20.6428\n",
      "Epoch: 0300 cost= 0.203356788 W= 9.91933 b= 20.6428\n",
      "Epoch: 0400 cost= 0.203370735 W= 9.91959 b= 20.6428\n",
      "Epoch: 0500 cost= 0.203384981 W= 9.91986 b= 20.6428\n",
      "Epoch: 0600 cost= 0.203399017 W= 9.92012 b= 20.6428\n",
      "Epoch: 0700 cost= 0.203412980 W= 9.92038 b= 20.6428\n",
      "Epoch: 0800 cost= 0.203427330 W= 9.92065 b= 20.6428\n",
      "Epoch: 0900 cost= 0.203441679 W= 9.92091 b= 20.6428\n",
      "Epoch: 1000 cost= 0.203455836 W= 9.92117 b= 20.6428\n",
      "Optimization Finished!\n",
      "Cost= 0.203456 W= 9.92117 b= 20.6428 \n",
      "\n"
     ]
    }
   ],
   "source": [
    "# Launch the graph\n",
    "sess = tf.Session()\n",
    "tf.device(\"/cpu:0\")\n",
    "sess.run(init)\n",
    "\n",
    "# Fit all training data\n",
    "for epoch in range(n_epochs):\n",
    "    for (x, y) in zip(X_train, y_train):\n",
    "        sess.run(optimizer, feed_dict={X: x,Y:y})\n",
    "\n",
    "    # Display logs per epoch step\n",
    "    if (epoch+1) % display_step == 0:\n",
    "        c = sess.run(cost, feed_dict={X: X_train,Y: y_train})\n",
    "        print(\"Epoch:\", '%04d' % (epoch+1), \"cost=\", \"{:.9f}\".format(c), \\\n",
    "            \"W=\", sess.run(W), \"b=\", sess.run(b))\n",
    "\n",
    "print(\"Optimization Finished!\")\n",
    "training_cost = sess.run(cost, feed_dict={X: X_train,Y: y_train})\n",
    "print(\"Cost=\", training_cost, \"W=\", sess.run(W), \"b=\", sess.run(b), '\\n')"
   ]
  },
  {
   "cell_type": "markdown",
   "metadata": {},
   "source": [
    "As we can see, I have generated data with weight = 10 and bias = 20. I got the same parameters with linear regression. I did not get the exact parameters because I added random noise in the data"
   ]
  },
  {
   "cell_type": "code",
   "execution_count": 9,
   "metadata": {
    "collapsed": false
   },
   "outputs": [
    {
     "data": {
      "image/png": "[encoded data removed]",
      "text/plain": [
       "<matplotlib.figure.Figure at 0x7f5ddfce3518>"
      ]
     },
     "metadata": {},
     "output_type": "display_data"
    }
   ],
   "source": [
    "# Regression model\n",
    "plt.plot(X_train, y_train, 'ro', label='Train data')\n",
    "plt.plot(X_train, sess.run(W) * X_train + sess.run(b))\n",
    "plt.show()"
   ]
  },
  {
   "cell_type": "markdown",
   "metadata": {},
   "source": [
    "## Test the model"
   ]
  },
  {
   "cell_type": "code",
   "execution_count": 10,
   "metadata": {
    "collapsed": false
   },
   "outputs": [],
   "source": [
    "# Testing examples\n",
    "X_test = np.asarray([rng.uniform(0,1) for x in np.arange(20)])\n",
    "y_test = X_test * 10 + 20 + np.asarray([rng.uniform(0,1) for x in np.arange(20)])"
   ]
  },
  {
   "cell_type": "code",
   "execution_count": 14,
   "metadata": {
    "collapsed": false
   },
   "outputs": [
    {
     "name": "stdout",
     "output_type": "stream",
     "text": [
      "Root mean squared error:  0.210009\n"
     ]
    }
   ],
   "source": [
    "test_error = sess.run( tf.sqrt(tf.reduce_sum(tf.pow(y_pred - Y, 2)) / (2 * X_test.shape[0])),feed_dict={X: X_test, Y: y_test})  # same function as cost above\n",
    "print(\"Root mean squared error: \", test_error)"
   ]
  },
  {
   "cell_type": "code",
   "execution_count": 15,
   "metadata": {
    "collapsed": false
   },
   "outputs": [
    {
     "data": {
      "image/png": "[encoded data removed]",
      "text/plain": [
       "<matplotlib.figure.Figure at 0x7f5ddb3bac88>"
      ]
     },
     "metadata": {},
     "output_type": "display_data"
    }
   ],
   "source": [
    "plt.plot(X_test, y_test, 'yo', label='Test data')\n",
    "plt.plot(X_test, sess.run(W) * X_test + sess.run(b))\n",
    "plt.show()"
   ]
  },
  {
   "cell_type": "code",
   "execution_count": null,
   "metadata": {
    "collapsed": true
   },
   "outputs": [],
   "source": []
  }
 ],
 "metadata": {
  "anaconda-cloud": {},
  "kernelspec": {
   "display_name": "Python [default]",
   "language": "python",
   "name": "python3"
  },
  "language_info": {
   "codemirror_mode": {
    "name": "ipython",
    "version": 3
   },
   "file_extension": ".py",
   "mimetype": "text/x-python",
   "name": "python",
   "nbconvert_exporter": "python",
   "pygments_lexer": "ipython3",
   "version": "3.5.2"
  }
 },
 "nbformat": 4,
 "nbformat_minor": 1
}
