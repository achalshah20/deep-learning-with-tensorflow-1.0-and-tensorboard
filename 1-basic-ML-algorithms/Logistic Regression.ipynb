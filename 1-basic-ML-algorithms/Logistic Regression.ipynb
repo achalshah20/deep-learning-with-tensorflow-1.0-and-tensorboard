{
 "cells": [
  {
   "cell_type": "markdown",
   "metadata": {},
   "source": [
    "## Logistic regression implementation using tensorflow"
   ]
  },
  {
   "cell_type": "code",
   "execution_count": 19,
   "metadata": {
    "collapsed": false
   },
   "outputs": [],
   "source": [
    "import tensorflow as tf"
   ]
  },
  {
   "cell_type": "code",
   "execution_count": 20,
   "metadata": {
    "collapsed": false
   },
   "outputs": [
    {
     "name": "stdout",
     "output_type": "stream",
     "text": [
      "Extracting /tmp/mnist/train-images-idx3-ubyte.gz\n",
      "Extracting /tmp/mnist/train-labels-idx1-ubyte.gz\n",
      "Extracting /tmp/mnist/t10k-images-idx3-ubyte.gz\n",
      "Extracting /tmp/mnist/t10k-labels-idx1-ubyte.gz\n"
     ]
    }
   ],
   "source": [
    "# Import MNIST data\n",
    "from tensorflow.examples.tutorials.mnist import input_data\n",
    "mnist = input_data.read_data_sets(\"/tmp/mnist/\", one_hot=True)"
   ]
  },
  {
   "cell_type": "code",
   "execution_count": 21,
   "metadata": {
    "collapsed": true
   },
   "outputs": [],
   "source": [
    "# Model parameters\n",
    "learning_rate = 0.05\n",
    "n_epochs = 20\n",
    "display_step = 1\n",
    "batch_size = 50"
   ]
  },
  {
   "cell_type": "code",
   "execution_count": 22,
   "metadata": {
    "collapsed": true
   },
   "outputs": [],
   "source": [
    "# Dimensions\n",
    "n_pixels = 784 #28 x 28 image\n",
    "n_labels = 10 # 0-9 numbers"
   ]
  },
  {
   "cell_type": "code",
   "execution_count": 23,
   "metadata": {
    "collapsed": false
   },
   "outputs": [],
   "source": [
    "# Tensorflow graph input\n",
    "X = tf.placeholder(tf.float32, [None, n_pixels])\n",
    "Y = tf.placeholder(tf.float32, [None, n_labels]) \n",
    "\n",
    "# Model weights\n",
    "W = tf.Variable(tf.zeros([n_pixels, n_labels]))\n",
    "b = tf.Variable(tf.zeros([n_labels]))"
   ]
  },
  {
   "cell_type": "code",
   "execution_count": 24,
   "metadata": {
    "collapsed": true
   },
   "outputs": [],
   "source": [
    "# Multinomial logistic regression with softmax\n",
    "pred = tf.nn.softmax(tf.matmul(X, W) + b)"
   ]
  },
  {
   "cell_type": "code",
   "execution_count": 30,
   "metadata": {
    "collapsed": true
   },
   "outputs": [],
   "source": [
    "# Minimize cross-entropy\n",
    "cost = tf.reduce_mean(-tf.reduce_sum(Y*tf.log(pred), reduction_indices=1))\n",
    "\n",
    "# Optimize cost function by using gradient descent optimizer\n",
    "optimizer = tf.train.GradientDescentOptimizer(learning_rate).minimize(cost)"
   ]
  },
  {
   "cell_type": "code",
   "execution_count": 31,
   "metadata": {
    "collapsed": true
   },
   "outputs": [],
   "source": [
    "# Initializing the variables\n",
    "init = tf.initialize_all_variables()"
   ]
  },
  {
   "cell_type": "markdown",
   "metadata": {},
   "source": [
    "## Train logistic regression model"
   ]
  },
  {
   "cell_type": "code",
   "execution_count": 42,
   "metadata": {
    "collapsed": false
   },
   "outputs": [
    {
     "name": "stdout",
     "output_type": "stream",
     "text": [
      "Epoch: 01 Cost= 0.549415\n",
      "Epoch: 02 Cost= 0.366113\n",
      "Epoch: 03 Cost= 0.336063\n",
      "Epoch: 04 Cost= 0.321556\n",
      "Epoch: 05 Cost= 0.311590\n",
      "Epoch: 06 Cost= 0.303605\n",
      "Epoch: 07 Cost= 0.298914\n",
      "Epoch: 08 Cost= 0.293474\n",
      "Epoch: 09 Cost= 0.291522\n",
      "Epoch: 10 Cost= 0.287275\n",
      "Epoch: 11 Cost= 0.284793\n",
      "Epoch: 12 Cost= 0.282755\n",
      "Epoch: 13 Cost= 0.280849\n",
      "Epoch: 14 Cost= 0.278481\n",
      "Epoch: 15 Cost= 0.277507\n",
      "Epoch: 16 Cost= 0.275218\n",
      "Epoch: 17 Cost= 0.273807\n",
      "Epoch: 18 Cost= 0.273563\n",
      "Epoch: 19 Cost= 0.271525\n",
      "Epoch: 20 Cost= 0.270592\n"
     ]
    }
   ],
   "source": [
    "# Launch the graph\n",
    "sess = tf.Session()\n",
    "tf.device(\"/cpu:0\")\n",
    "sess.run(init)\n",
    "\n",
    "n_batches = int(mnist.train.num_examples/batch_size)\n",
    "\n",
    "# Run gradient descent for n_epochs\n",
    "for epoch in range(n_epochs):\n",
    "    training_avg_loss = 0.\n",
    "    \n",
    "    # For each epochs we have to run all the batches to compute parameters\n",
    "    for i in range(n_batches):\n",
    "        x_batch, y_batch = mnist.train.next_batch(batch_size)\n",
    "        \n",
    "        # Feed x and y batches to SGD optimizer\n",
    "        opt, c = sess.run([optimizer, cost], feed_dict={X: x_batch,Y: y_batch})\n",
    "        \n",
    "        # calc average loss\n",
    "        training_avg_loss += c / n_batches\n",
    "    \n",
    "    # Display logs per epoch step\n",
    "    if (epoch+1) % display_step == 0:\n",
    "        print(\"Epoch:\", '%02d' % (epoch+1), \"Cost=\", \"{:.6f}\".format(training_avg_loss))"
   ]
  },
  {
   "cell_type": "markdown",
   "metadata": {},
   "source": [
    "## Test the model"
   ]
  },
  {
   "cell_type": "code",
   "execution_count": 43,
   "metadata": {
    "collapsed": false
   },
   "outputs": [
    {
     "name": "stdout",
     "output_type": "stream",
     "text": [
      "Accuracy: 0.9242\n"
     ]
    }
   ],
   "source": [
    "# Test model\n",
    "correct_prediction = tf.equal(tf.argmax(pred, 1), tf.argmax(Y, 1))\n",
    "\n",
    "# Calculate accuracy\n",
    "accuracy = tf.reduce_mean(tf.cast(correct_prediction, tf.float32))\n",
    "print(\"Accuracy:\", accuracy.eval(session=sess,feed_dict={X: mnist.test.images, Y: mnist.test.labels}))"
   ]
  }
 ],
 "metadata": {
  "anaconda-cloud": {},
  "kernelspec": {
   "display_name": "Python [default]",
   "language": "python",
   "name": "python3"
  },
  "language_info": {
   "codemirror_mode": {
    "name": "ipython",
    "version": 3
   },
   "file_extension": ".py",
   "mimetype": "text/x-python",
   "name": "python",
   "nbconvert_exporter": "python",
   "pygments_lexer": "ipython3",
   "version": "3.5.2"
  }
 },
 "nbformat": 4,
 "nbformat_minor": 1
}
